{
 "cells": [
  {
   "cell_type": "code",
   "execution_count": 170,
   "id": "ba0bd5be",
   "metadata": {},
   "outputs": [],
   "source": [
    "import pandas as pd\n",
    "import seaborn as sns\n",
    "import numpy as np\n",
    "from matplotlib import pyplot as plt"
   ]
  },
  {
   "cell_type": "code",
   "execution_count": 171,
   "id": "38ed6b96",
   "metadata": {},
   "outputs": [
    {
     "name": "stdout",
     "output_type": "stream",
     "text": [
      "<class 'pandas.core.frame.DataFrame'>\n",
      "RangeIndex: 20000 entries, 0 to 19999\n",
      "Data columns (total 16 columns):\n",
      " #   Column             Non-Null Count  Dtype  \n",
      "---  ------             --------------  -----  \n",
      " 0   Customer ID        20000 non-null  int64  \n",
      " 1   Age                20000 non-null  int64  \n",
      " 2   Gender             19999 non-null  object \n",
      " 3   Loyalty Member     20000 non-null  object \n",
      " 4   Product Type       20000 non-null  object \n",
      " 5   SKU                20000 non-null  object \n",
      " 6   Rating             20000 non-null  int64  \n",
      " 7   Order Status       20000 non-null  object \n",
      " 8   Payment Method     20000 non-null  object \n",
      " 9   Total Price        20000 non-null  float64\n",
      " 10  Unit Price         20000 non-null  float64\n",
      " 11  Quantity           20000 non-null  int64  \n",
      " 12  Purchase Date      20000 non-null  object \n",
      " 13  Shipping Type      20000 non-null  object \n",
      " 14  Add-ons Purchased  15132 non-null  object \n",
      " 15  Add-on Total       20000 non-null  float64\n",
      "dtypes: float64(3), int64(4), object(9)\n",
      "memory usage: 2.4+ MB\n",
      "None\n"
     ]
    },
    {
     "data": {
      "text/html": [
       "<div>\n",
       "<style scoped>\n",
       "    .dataframe tbody tr th:only-of-type {\n",
       "        vertical-align: middle;\n",
       "    }\n",
       "\n",
       "    .dataframe tbody tr th {\n",
       "        vertical-align: top;\n",
       "    }\n",
       "\n",
       "    .dataframe thead th {\n",
       "        text-align: right;\n",
       "    }\n",
       "</style>\n",
       "<table border=\"1\" class=\"dataframe\">\n",
       "  <thead>\n",
       "    <tr style=\"text-align: right;\">\n",
       "      <th></th>\n",
       "      <th>Customer ID</th>\n",
       "      <th>Age</th>\n",
       "      <th>Gender</th>\n",
       "      <th>Loyalty Member</th>\n",
       "      <th>Product Type</th>\n",
       "      <th>SKU</th>\n",
       "      <th>Rating</th>\n",
       "      <th>Order Status</th>\n",
       "      <th>Payment Method</th>\n",
       "      <th>Total Price</th>\n",
       "      <th>Unit Price</th>\n",
       "      <th>Quantity</th>\n",
       "      <th>Purchase Date</th>\n",
       "      <th>Shipping Type</th>\n",
       "      <th>Add-ons Purchased</th>\n",
       "      <th>Add-on Total</th>\n",
       "    </tr>\n",
       "  </thead>\n",
       "  <tbody>\n",
       "    <tr>\n",
       "      <th>0</th>\n",
       "      <td>1000</td>\n",
       "      <td>53</td>\n",
       "      <td>Male</td>\n",
       "      <td>No</td>\n",
       "      <td>Smartphone</td>\n",
       "      <td>SKU1004</td>\n",
       "      <td>2</td>\n",
       "      <td>Cancelled</td>\n",
       "      <td>Credit Card</td>\n",
       "      <td>5538.33</td>\n",
       "      <td>791.19</td>\n",
       "      <td>7</td>\n",
       "      <td>2024-03-20</td>\n",
       "      <td>Standard</td>\n",
       "      <td>Accessory,Accessory,Accessory</td>\n",
       "      <td>40.21</td>\n",
       "    </tr>\n",
       "    <tr>\n",
       "      <th>1</th>\n",
       "      <td>1000</td>\n",
       "      <td>53</td>\n",
       "      <td>Male</td>\n",
       "      <td>No</td>\n",
       "      <td>Tablet</td>\n",
       "      <td>SKU1002</td>\n",
       "      <td>3</td>\n",
       "      <td>Completed</td>\n",
       "      <td>Paypal</td>\n",
       "      <td>741.09</td>\n",
       "      <td>247.03</td>\n",
       "      <td>3</td>\n",
       "      <td>2024-04-20</td>\n",
       "      <td>Overnight</td>\n",
       "      <td>Impulse Item</td>\n",
       "      <td>26.09</td>\n",
       "    </tr>\n",
       "    <tr>\n",
       "      <th>2</th>\n",
       "      <td>1002</td>\n",
       "      <td>41</td>\n",
       "      <td>Male</td>\n",
       "      <td>No</td>\n",
       "      <td>Laptop</td>\n",
       "      <td>SKU1005</td>\n",
       "      <td>3</td>\n",
       "      <td>Completed</td>\n",
       "      <td>Credit Card</td>\n",
       "      <td>1855.84</td>\n",
       "      <td>463.96</td>\n",
       "      <td>4</td>\n",
       "      <td>2023-10-17</td>\n",
       "      <td>Express</td>\n",
       "      <td>NaN</td>\n",
       "      <td>0.00</td>\n",
       "    </tr>\n",
       "    <tr>\n",
       "      <th>3</th>\n",
       "      <td>1002</td>\n",
       "      <td>41</td>\n",
       "      <td>Male</td>\n",
       "      <td>Yes</td>\n",
       "      <td>Smartphone</td>\n",
       "      <td>SKU1004</td>\n",
       "      <td>2</td>\n",
       "      <td>Completed</td>\n",
       "      <td>Cash</td>\n",
       "      <td>3164.76</td>\n",
       "      <td>791.19</td>\n",
       "      <td>4</td>\n",
       "      <td>2024-08-09</td>\n",
       "      <td>Overnight</td>\n",
       "      <td>Impulse Item,Impulse Item</td>\n",
       "      <td>60.16</td>\n",
       "    </tr>\n",
       "    <tr>\n",
       "      <th>4</th>\n",
       "      <td>1003</td>\n",
       "      <td>75</td>\n",
       "      <td>Male</td>\n",
       "      <td>Yes</td>\n",
       "      <td>Smartphone</td>\n",
       "      <td>SKU1001</td>\n",
       "      <td>5</td>\n",
       "      <td>Completed</td>\n",
       "      <td>Cash</td>\n",
       "      <td>41.50</td>\n",
       "      <td>20.75</td>\n",
       "      <td>2</td>\n",
       "      <td>2024-05-21</td>\n",
       "      <td>Express</td>\n",
       "      <td>Accessory</td>\n",
       "      <td>35.56</td>\n",
       "    </tr>\n",
       "    <tr>\n",
       "      <th>5</th>\n",
       "      <td>1004</td>\n",
       "      <td>41</td>\n",
       "      <td>Female</td>\n",
       "      <td>No</td>\n",
       "      <td>Smartphone</td>\n",
       "      <td>SKU1001</td>\n",
       "      <td>5</td>\n",
       "      <td>Completed</td>\n",
       "      <td>Credit Card</td>\n",
       "      <td>83.00</td>\n",
       "      <td>20.75</td>\n",
       "      <td>4</td>\n",
       "      <td>2024-05-26</td>\n",
       "      <td>Standard</td>\n",
       "      <td>Impulse Item,Accessory</td>\n",
       "      <td>65.78</td>\n",
       "    </tr>\n",
       "    <tr>\n",
       "      <th>6</th>\n",
       "      <td>1005</td>\n",
       "      <td>25</td>\n",
       "      <td>Female</td>\n",
       "      <td>No</td>\n",
       "      <td>Smartwatch</td>\n",
       "      <td>SKU1003</td>\n",
       "      <td>3</td>\n",
       "      <td>Completed</td>\n",
       "      <td>Paypal</td>\n",
       "      <td>7603.47</td>\n",
       "      <td>844.83</td>\n",
       "      <td>9</td>\n",
       "      <td>2024-01-30</td>\n",
       "      <td>Overnight</td>\n",
       "      <td>NaN</td>\n",
       "      <td>0.00</td>\n",
       "    </tr>\n",
       "    <tr>\n",
       "      <th>7</th>\n",
       "      <td>1005</td>\n",
       "      <td>25</td>\n",
       "      <td>Female</td>\n",
       "      <td>No</td>\n",
       "      <td>Laptop</td>\n",
       "      <td>SKU1005</td>\n",
       "      <td>3</td>\n",
       "      <td>Completed</td>\n",
       "      <td>Debit Card</td>\n",
       "      <td>4175.64</td>\n",
       "      <td>463.96</td>\n",
       "      <td>9</td>\n",
       "      <td>2024-06-24</td>\n",
       "      <td>Overnight</td>\n",
       "      <td>Extended Warranty,Extended Warranty</td>\n",
       "      <td>75.33</td>\n",
       "    </tr>\n",
       "    <tr>\n",
       "      <th>8</th>\n",
       "      <td>1006</td>\n",
       "      <td>24</td>\n",
       "      <td>Male</td>\n",
       "      <td>No</td>\n",
       "      <td>Smartphone</td>\n",
       "      <td>SKU1004</td>\n",
       "      <td>2</td>\n",
       "      <td>Cancelled</td>\n",
       "      <td>Debit Card</td>\n",
       "      <td>5538.33</td>\n",
       "      <td>791.19</td>\n",
       "      <td>7</td>\n",
       "      <td>2023-10-03</td>\n",
       "      <td>Standard</td>\n",
       "      <td>Impulse Item</td>\n",
       "      <td>43.05</td>\n",
       "    </tr>\n",
       "    <tr>\n",
       "      <th>9</th>\n",
       "      <td>1006</td>\n",
       "      <td>24</td>\n",
       "      <td>Male</td>\n",
       "      <td>Yes</td>\n",
       "      <td>Laptop</td>\n",
       "      <td>SKU1005</td>\n",
       "      <td>3</td>\n",
       "      <td>Completed</td>\n",
       "      <td>Cash</td>\n",
       "      <td>4175.64</td>\n",
       "      <td>463.96</td>\n",
       "      <td>9</td>\n",
       "      <td>2024-01-01</td>\n",
       "      <td>Express</td>\n",
       "      <td>NaN</td>\n",
       "      <td>0.00</td>\n",
       "    </tr>\n",
       "  </tbody>\n",
       "</table>\n",
       "</div>"
      ],
      "text/plain": [
       "   Customer ID  Age  Gender Loyalty Member Product Type      SKU  Rating  \\\n",
       "0         1000   53    Male             No   Smartphone  SKU1004       2   \n",
       "1         1000   53    Male             No       Tablet  SKU1002       3   \n",
       "2         1002   41    Male             No       Laptop  SKU1005       3   \n",
       "3         1002   41    Male            Yes   Smartphone  SKU1004       2   \n",
       "4         1003   75    Male            Yes   Smartphone  SKU1001       5   \n",
       "5         1004   41  Female             No   Smartphone  SKU1001       5   \n",
       "6         1005   25  Female             No   Smartwatch  SKU1003       3   \n",
       "7         1005   25  Female             No       Laptop  SKU1005       3   \n",
       "8         1006   24    Male             No   Smartphone  SKU1004       2   \n",
       "9         1006   24    Male            Yes       Laptop  SKU1005       3   \n",
       "\n",
       "  Order Status Payment Method  Total Price  Unit Price  Quantity  \\\n",
       "0    Cancelled    Credit Card      5538.33      791.19         7   \n",
       "1    Completed         Paypal       741.09      247.03         3   \n",
       "2    Completed    Credit Card      1855.84      463.96         4   \n",
       "3    Completed           Cash      3164.76      791.19         4   \n",
       "4    Completed           Cash        41.50       20.75         2   \n",
       "5    Completed    Credit Card        83.00       20.75         4   \n",
       "6    Completed         Paypal      7603.47      844.83         9   \n",
       "7    Completed     Debit Card      4175.64      463.96         9   \n",
       "8    Cancelled     Debit Card      5538.33      791.19         7   \n",
       "9    Completed           Cash      4175.64      463.96         9   \n",
       "\n",
       "  Purchase Date Shipping Type                    Add-ons Purchased  \\\n",
       "0    2024-03-20      Standard        Accessory,Accessory,Accessory   \n",
       "1    2024-04-20     Overnight                         Impulse Item   \n",
       "2    2023-10-17       Express                                  NaN   \n",
       "3    2024-08-09     Overnight            Impulse Item,Impulse Item   \n",
       "4    2024-05-21       Express                            Accessory   \n",
       "5    2024-05-26      Standard               Impulse Item,Accessory   \n",
       "6    2024-01-30     Overnight                                  NaN   \n",
       "7    2024-06-24     Overnight  Extended Warranty,Extended Warranty   \n",
       "8    2023-10-03      Standard                         Impulse Item   \n",
       "9    2024-01-01       Express                                  NaN   \n",
       "\n",
       "   Add-on Total  \n",
       "0         40.21  \n",
       "1         26.09  \n",
       "2          0.00  \n",
       "3         60.16  \n",
       "4         35.56  \n",
       "5         65.78  \n",
       "6          0.00  \n",
       "7         75.33  \n",
       "8         43.05  \n",
       "9          0.00  "
      ]
     },
     "metadata": {},
     "output_type": "display_data"
    },
    {
     "name": "stdout",
     "output_type": "stream",
     "text": [
      "None\n"
     ]
    }
   ],
   "source": [
    "Sales = pd.read_csv(r'C:\\GitRepo\\My-training-Slubik-Stanislav\\Electronic_sales_Sep2023-Sep2024.csv')\n",
    "\n",
    "print(Sales.info())\n",
    "print(display(Sales.head(10)))"
   ]
  },
  {
   "cell_type": "code",
   "execution_count": 172,
   "id": "6ac843f6",
   "metadata": {},
   "outputs": [
    {
     "data": {
      "text/plain": [
       "'Задание 1\\nНа основании датасета для каждого покупателя получите:\\n - предпочитаемый метод оплаты;\\n - общие траты;\\n - количество денег, потраченных на дополнительные услуги и аксессуары.\\n'"
      ]
     },
     "execution_count": 172,
     "metadata": {},
     "output_type": "execute_result"
    }
   ],
   "source": [
    "'''Задание 1\n",
    "На основании датасета для каждого покупателя получите:\n",
    " - предпочитаемый метод оплаты;\n",
    " - общие траты;\n",
    " - количество денег, потраченных на дополнительные услуги и аксессуары.\n",
    "'''"
   ]
  },
  {
   "cell_type": "code",
   "execution_count": 173,
   "id": "a9e5c593",
   "metadata": {},
   "outputs": [
    {
     "data": {
      "text/plain": [
       "array(['Credit Card', 'Paypal', 'Cash', 'Debit Card', 'Bank Transfer',\n",
       "       'PayPal'], dtype=object)"
      ]
     },
     "execution_count": 173,
     "metadata": {},
     "output_type": "execute_result"
    }
   ],
   "source": [
    "Sales['Payment Method'].unique()"
   ]
  },
  {
   "cell_type": "code",
   "execution_count": 174,
   "id": "6eb8f828",
   "metadata": {},
   "outputs": [
    {
     "data": {
      "text/html": [
       "<div>\n",
       "<style scoped>\n",
       "    .dataframe tbody tr th:only-of-type {\n",
       "        vertical-align: middle;\n",
       "    }\n",
       "\n",
       "    .dataframe tbody tr th {\n",
       "        vertical-align: top;\n",
       "    }\n",
       "\n",
       "    .dataframe thead th {\n",
       "        text-align: right;\n",
       "    }\n",
       "</style>\n",
       "<table border=\"1\" class=\"dataframe\">\n",
       "  <thead>\n",
       "    <tr style=\"text-align: right;\">\n",
       "      <th></th>\n",
       "      <th>Customer ID</th>\n",
       "      <th>Payment Method</th>\n",
       "      <th>count</th>\n",
       "    </tr>\n",
       "  </thead>\n",
       "  <tbody>\n",
       "    <tr>\n",
       "      <th>0</th>\n",
       "      <td>1000</td>\n",
       "      <td>Credit Card</td>\n",
       "      <td>1</td>\n",
       "    </tr>\n",
       "    <tr>\n",
       "      <th>1</th>\n",
       "      <td>1000</td>\n",
       "      <td>Paypal</td>\n",
       "      <td>1</td>\n",
       "    </tr>\n",
       "    <tr>\n",
       "      <th>2</th>\n",
       "      <td>1002</td>\n",
       "      <td>Cash</td>\n",
       "      <td>1</td>\n",
       "    </tr>\n",
       "    <tr>\n",
       "      <th>3</th>\n",
       "      <td>1002</td>\n",
       "      <td>Credit Card</td>\n",
       "      <td>1</td>\n",
       "    </tr>\n",
       "    <tr>\n",
       "      <th>4</th>\n",
       "      <td>1003</td>\n",
       "      <td>Cash</td>\n",
       "      <td>1</td>\n",
       "    </tr>\n",
       "    <tr>\n",
       "      <th>...</th>\n",
       "      <td>...</td>\n",
       "      <td>...</td>\n",
       "      <td>...</td>\n",
       "    </tr>\n",
       "    <tr>\n",
       "      <th>17146</th>\n",
       "      <td>19996</td>\n",
       "      <td>Bank Transfer</td>\n",
       "      <td>2</td>\n",
       "    </tr>\n",
       "    <tr>\n",
       "      <th>17147</th>\n",
       "      <td>19996</td>\n",
       "      <td>Credit Card</td>\n",
       "      <td>2</td>\n",
       "    </tr>\n",
       "    <tr>\n",
       "      <th>17148</th>\n",
       "      <td>19996</td>\n",
       "      <td>PayPal</td>\n",
       "      <td>2</td>\n",
       "    </tr>\n",
       "    <tr>\n",
       "      <th>17149</th>\n",
       "      <td>19997</td>\n",
       "      <td>Bank Transfer</td>\n",
       "      <td>1</td>\n",
       "    </tr>\n",
       "    <tr>\n",
       "      <th>17150</th>\n",
       "      <td>19998</td>\n",
       "      <td>Bank Transfer</td>\n",
       "      <td>1</td>\n",
       "    </tr>\n",
       "  </tbody>\n",
       "</table>\n",
       "<p>17151 rows × 3 columns</p>\n",
       "</div>"
      ],
      "text/plain": [
       "       Customer ID Payment Method  count\n",
       "0             1000    Credit Card      1\n",
       "1             1000         Paypal      1\n",
       "2             1002           Cash      1\n",
       "3             1002    Credit Card      1\n",
       "4             1003           Cash      1\n",
       "...            ...            ...    ...\n",
       "17146        19996  Bank Transfer      2\n",
       "17147        19996    Credit Card      2\n",
       "17148        19996         PayPal      2\n",
       "17149        19997  Bank Transfer      1\n",
       "17150        19998  Bank Transfer      1\n",
       "\n",
       "[17151 rows x 3 columns]"
      ]
     },
     "execution_count": 174,
     "metadata": {},
     "output_type": "execute_result"
    }
   ],
   "source": [
    "Sales.groupby(['Customer ID', 'Payment Method']).size().reset_index(name='count').sort_values(by=['Customer ID','count'], ascending=[True, False])"
   ]
  },
  {
   "cell_type": "code",
   "execution_count": 175,
   "id": "3787790f",
   "metadata": {},
   "outputs": [
    {
     "name": "stdout",
     "output_type": "stream",
     "text": [
      "Payment Method  Bank Transfer  Cash  Credit Card  Debit Card  PayPal  Paypal\n",
      "Customer ID                                                                 \n",
      "1000                        0     0            1           0       0       1\n",
      "1002                        0     1            1           0       0       0\n",
      "1003                        0     1            0           0       0       0\n",
      "1004                        0     0            1           0       0       0\n",
      "1005                        0     0            0           1       0       1\n",
      "...                       ...   ...          ...         ...     ...     ...\n",
      "19994                       1     0            0           0       0       0\n",
      "19995                       0     0            1           0       0       0\n",
      "19996                       2     0            2           0       2       0\n",
      "19997                       1     0            0           0       0       0\n",
      "19998                       1     0            0           0       0       0\n",
      "\n",
      "[12136 rows x 6 columns]\n"
     ]
    }
   ],
   "source": [
    "Payment_Method = Sales.groupby(['Customer ID', 'Payment Method'])['Payment Method'].value_counts().unstack(fill_value=0)\n",
    "print(Payment_Method)"
   ]
  },
  {
   "cell_type": "code",
   "execution_count": 176,
   "id": "5c47d4cc",
   "metadata": {},
   "outputs": [
    {
     "name": "stdout",
     "output_type": "stream",
     "text": [
      "Customer ID\n",
      "1000       Credit Card\n",
      "1002              Cash\n",
      "1003              Cash\n",
      "1004       Credit Card\n",
      "1005        Debit Card\n",
      "             ...      \n",
      "19994    Bank Transfer\n",
      "19995      Credit Card\n",
      "19996    Bank Transfer\n",
      "19997    Bank Transfer\n",
      "19998    Bank Transfer\n",
      "Length: 12136, dtype: object\n"
     ]
    }
   ],
   "source": [
    "max_count = Payment_Method.idxmax(axis=1)\n",
    "print(max_count)"
   ]
  },
  {
   "cell_type": "code",
   "execution_count": 177,
   "id": "e3bdc58e",
   "metadata": {},
   "outputs": [
    {
     "name": "stdout",
     "output_type": "stream",
     "text": [
      "Customer ID\n",
      "1000                   Credit Card,Paypal\n",
      "1002                     Cash,Credit Card\n",
      "1003                                 Cash\n",
      "1004                          Credit Card\n",
      "1005                    Debit Card,Paypal\n",
      "                       ...               \n",
      "19994                       Bank Transfer\n",
      "19995                         Credit Card\n",
      "19996    Bank Transfer,Credit Card,PayPal\n",
      "19997                       Bank Transfer\n",
      "19998                       Bank Transfer\n",
      "Length: 12136, dtype: object\n"
     ]
    }
   ],
   "source": [
    "def pay_met(row):\n",
    "# функция которая принимает на себя payment_metod, \n",
    "#а после возвращает либо наиболее часто используемый метод, \n",
    "# либо несколько если они равны наиболее часто применяемому методу.\n",
    "    max_pay = row.max()\n",
    "    pay_met = (col for col in Payment_Method.columns if row[col] == max_pay)\n",
    "    \n",
    "    \n",
    "    return ','.join(pay_met)\n",
    "\n",
    "\n",
    "preferred_method = Payment_Method.apply(pay_met, axis=1) # применение функции к каждой строке\n",
    "\n",
    "print(preferred_method)"
   ]
  },
  {
   "cell_type": "code",
   "execution_count": 178,
   "id": "e860ebe7",
   "metadata": {},
   "outputs": [
    {
     "data": {
      "text/plain": [
       "Customer ID\n",
       "1000      6279.42\n",
       "1002      5020.60\n",
       "1003        41.50\n",
       "1004        83.00\n",
       "1005     11779.11\n",
       "           ...   \n",
       "19994     5504.87\n",
       "19995     5394.56\n",
       "19996    27296.78\n",
       "19997     2528.26\n",
       "19998      674.32\n",
       "Name: Total Price, Length: 12136, dtype: float64"
      ]
     },
     "execution_count": 178,
     "metadata": {},
     "output_type": "execute_result"
    }
   ],
   "source": [
    "Sales.groupby(['Customer ID'])['Total Price'].sum() # Общие затраты"
   ]
  },
  {
   "cell_type": "code",
   "execution_count": 179,
   "id": "a513474c",
   "metadata": {},
   "outputs": [
    {
     "data": {
      "text/plain": [
       "Customer ID\n",
       "1000      66.30\n",
       "1002      60.16\n",
       "1003      35.56\n",
       "1004      65.78\n",
       "1005      75.33\n",
       "          ...  \n",
       "19994     93.17\n",
       "19995      0.00\n",
       "19996    432.12\n",
       "19997    101.34\n",
       "19998      0.00\n",
       "Name: Add-on Total, Length: 12136, dtype: float64"
      ]
     },
     "execution_count": 179,
     "metadata": {},
     "output_type": "execute_result"
    }
   ],
   "source": [
    "Sales.groupby(['Customer ID'])['Add-on Total'].sum() # Затраты на акссесуары"
   ]
  },
  {
   "cell_type": "code",
   "execution_count": 180,
   "id": "b211c3b8",
   "metadata": {},
   "outputs": [
    {
     "data": {
      "text/plain": [
       "'Задание 2\\n1 На основании датасета получите доход:\\n - по каждому методу доставки,\\n - по каждому типу продукта,\\n - по дополнительным услугам за каждый месяц,\\n - по дополнительным услугам за каждый квартал.\\n2 Отобразите полученные данные на графике. '"
      ]
     },
     "execution_count": 180,
     "metadata": {},
     "output_type": "execute_result"
    }
   ],
   "source": [
    "'''Задание 2\n",
    "1 На основании датасета получите доход:\n",
    " - по каждому методу доставки,\n",
    " - по каждому типу продукта,\n",
    " - по дополнительным услугам за каждый месяц,\n",
    " - по дополнительным услугам за каждый квартал.\n",
    "2 Отобразите полученные данные на графике. '''"
   ]
  },
  {
   "cell_type": "code",
   "execution_count": 181,
   "id": "6a32f347",
   "metadata": {},
   "outputs": [
    {
     "name": "stdout",
     "output_type": "stream",
     "text": [
      "<class 'pandas.core.frame.DataFrame'>\n",
      "RangeIndex: 20000 entries, 0 to 19999\n",
      "Data columns (total 16 columns):\n",
      " #   Column             Non-Null Count  Dtype  \n",
      "---  ------             --------------  -----  \n",
      " 0   Customer ID        20000 non-null  int64  \n",
      " 1   Age                20000 non-null  int64  \n",
      " 2   Gender             19999 non-null  object \n",
      " 3   Loyalty Member     20000 non-null  object \n",
      " 4   Product Type       20000 non-null  object \n",
      " 5   SKU                20000 non-null  object \n",
      " 6   Rating             20000 non-null  int64  \n",
      " 7   Order Status       20000 non-null  object \n",
      " 8   Payment Method     20000 non-null  object \n",
      " 9   Total Price        20000 non-null  float64\n",
      " 10  Unit Price         20000 non-null  float64\n",
      " 11  Quantity           20000 non-null  int64  \n",
      " 12  Purchase Date      20000 non-null  object \n",
      " 13  Shipping Type      20000 non-null  object \n",
      " 14  Add-ons Purchased  15132 non-null  object \n",
      " 15  Add-on Total       20000 non-null  float64\n",
      "dtypes: float64(3), int64(4), object(9)\n",
      "memory usage: 2.4+ MB\n",
      "None\n"
     ]
    },
    {
     "data": {
      "text/html": [
       "<div>\n",
       "<style scoped>\n",
       "    .dataframe tbody tr th:only-of-type {\n",
       "        vertical-align: middle;\n",
       "    }\n",
       "\n",
       "    .dataframe tbody tr th {\n",
       "        vertical-align: top;\n",
       "    }\n",
       "\n",
       "    .dataframe thead th {\n",
       "        text-align: right;\n",
       "    }\n",
       "</style>\n",
       "<table border=\"1\" class=\"dataframe\">\n",
       "  <thead>\n",
       "    <tr style=\"text-align: right;\">\n",
       "      <th></th>\n",
       "      <th>Customer ID</th>\n",
       "      <th>Age</th>\n",
       "      <th>Gender</th>\n",
       "      <th>Loyalty Member</th>\n",
       "      <th>Product Type</th>\n",
       "      <th>SKU</th>\n",
       "      <th>Rating</th>\n",
       "      <th>Order Status</th>\n",
       "      <th>Payment Method</th>\n",
       "      <th>Total Price</th>\n",
       "      <th>Unit Price</th>\n",
       "      <th>Quantity</th>\n",
       "      <th>Purchase Date</th>\n",
       "      <th>Shipping Type</th>\n",
       "      <th>Add-ons Purchased</th>\n",
       "      <th>Add-on Total</th>\n",
       "    </tr>\n",
       "  </thead>\n",
       "  <tbody>\n",
       "    <tr>\n",
       "      <th>0</th>\n",
       "      <td>1000</td>\n",
       "      <td>53</td>\n",
       "      <td>Male</td>\n",
       "      <td>No</td>\n",
       "      <td>Smartphone</td>\n",
       "      <td>SKU1004</td>\n",
       "      <td>2</td>\n",
       "      <td>Cancelled</td>\n",
       "      <td>Credit Card</td>\n",
       "      <td>5538.33</td>\n",
       "      <td>791.19</td>\n",
       "      <td>7</td>\n",
       "      <td>2024-03-20</td>\n",
       "      <td>Standard</td>\n",
       "      <td>Accessory,Accessory,Accessory</td>\n",
       "      <td>40.21</td>\n",
       "    </tr>\n",
       "    <tr>\n",
       "      <th>1</th>\n",
       "      <td>1000</td>\n",
       "      <td>53</td>\n",
       "      <td>Male</td>\n",
       "      <td>No</td>\n",
       "      <td>Tablet</td>\n",
       "      <td>SKU1002</td>\n",
       "      <td>3</td>\n",
       "      <td>Completed</td>\n",
       "      <td>Paypal</td>\n",
       "      <td>741.09</td>\n",
       "      <td>247.03</td>\n",
       "      <td>3</td>\n",
       "      <td>2024-04-20</td>\n",
       "      <td>Overnight</td>\n",
       "      <td>Impulse Item</td>\n",
       "      <td>26.09</td>\n",
       "    </tr>\n",
       "    <tr>\n",
       "      <th>2</th>\n",
       "      <td>1002</td>\n",
       "      <td>41</td>\n",
       "      <td>Male</td>\n",
       "      <td>No</td>\n",
       "      <td>Laptop</td>\n",
       "      <td>SKU1005</td>\n",
       "      <td>3</td>\n",
       "      <td>Completed</td>\n",
       "      <td>Credit Card</td>\n",
       "      <td>1855.84</td>\n",
       "      <td>463.96</td>\n",
       "      <td>4</td>\n",
       "      <td>2023-10-17</td>\n",
       "      <td>Express</td>\n",
       "      <td>NaN</td>\n",
       "      <td>0.00</td>\n",
       "    </tr>\n",
       "    <tr>\n",
       "      <th>3</th>\n",
       "      <td>1002</td>\n",
       "      <td>41</td>\n",
       "      <td>Male</td>\n",
       "      <td>Yes</td>\n",
       "      <td>Smartphone</td>\n",
       "      <td>SKU1004</td>\n",
       "      <td>2</td>\n",
       "      <td>Completed</td>\n",
       "      <td>Cash</td>\n",
       "      <td>3164.76</td>\n",
       "      <td>791.19</td>\n",
       "      <td>4</td>\n",
       "      <td>2024-08-09</td>\n",
       "      <td>Overnight</td>\n",
       "      <td>Impulse Item,Impulse Item</td>\n",
       "      <td>60.16</td>\n",
       "    </tr>\n",
       "    <tr>\n",
       "      <th>4</th>\n",
       "      <td>1003</td>\n",
       "      <td>75</td>\n",
       "      <td>Male</td>\n",
       "      <td>Yes</td>\n",
       "      <td>Smartphone</td>\n",
       "      <td>SKU1001</td>\n",
       "      <td>5</td>\n",
       "      <td>Completed</td>\n",
       "      <td>Cash</td>\n",
       "      <td>41.50</td>\n",
       "      <td>20.75</td>\n",
       "      <td>2</td>\n",
       "      <td>2024-05-21</td>\n",
       "      <td>Express</td>\n",
       "      <td>Accessory</td>\n",
       "      <td>35.56</td>\n",
       "    </tr>\n",
       "  </tbody>\n",
       "</table>\n",
       "</div>"
      ],
      "text/plain": [
       "   Customer ID  Age Gender Loyalty Member Product Type      SKU  Rating  \\\n",
       "0         1000   53   Male             No   Smartphone  SKU1004       2   \n",
       "1         1000   53   Male             No       Tablet  SKU1002       3   \n",
       "2         1002   41   Male             No       Laptop  SKU1005       3   \n",
       "3         1002   41   Male            Yes   Smartphone  SKU1004       2   \n",
       "4         1003   75   Male            Yes   Smartphone  SKU1001       5   \n",
       "\n",
       "  Order Status Payment Method  Total Price  Unit Price  Quantity  \\\n",
       "0    Cancelled    Credit Card      5538.33      791.19         7   \n",
       "1    Completed         Paypal       741.09      247.03         3   \n",
       "2    Completed    Credit Card      1855.84      463.96         4   \n",
       "3    Completed           Cash      3164.76      791.19         4   \n",
       "4    Completed           Cash        41.50       20.75         2   \n",
       "\n",
       "  Purchase Date Shipping Type              Add-ons Purchased  Add-on Total  \n",
       "0    2024-03-20      Standard  Accessory,Accessory,Accessory         40.21  \n",
       "1    2024-04-20     Overnight                   Impulse Item         26.09  \n",
       "2    2023-10-17       Express                            NaN          0.00  \n",
       "3    2024-08-09     Overnight      Impulse Item,Impulse Item         60.16  \n",
       "4    2024-05-21       Express                      Accessory         35.56  "
      ]
     },
     "metadata": {},
     "output_type": "display_data"
    },
    {
     "name": "stdout",
     "output_type": "stream",
     "text": [
      "None\n"
     ]
    }
   ],
   "source": [
    "print(Sales.info())\n",
    "print(display(Sales.head(5)))"
   ]
  },
  {
   "cell_type": "code",
   "execution_count": 206,
   "id": "7e64e8bf",
   "metadata": {},
   "outputs": [
    {
     "data": {
      "text/plain": [
       "Text(0.5, 1.0, 'Доход по типу доставки')"
      ]
     },
     "execution_count": 206,
     "metadata": {},
     "output_type": "execute_result"
    },
    {
     "data": {
      "image/png": "[encoded data removed]",
      "text/plain": [
       "<Figure size 640x480 with 1 Axes>"
      ]
     },
     "metadata": {},
     "output_type": "display_data"
    }
   ],
   "source": [
    "Sales.groupby(['Shipping Type'])['Total Price'].sum().plot(kind='bar') # Доход по типу доставки\n",
    "plt.xlabel('Shipping Type')\n",
    "plt.ylabel('Total Price')\n",
    "plt.title('Доход по типу доставки')\n"
   ]
  },
  {
   "cell_type": "code",
   "execution_count": 205,
   "id": "e2803093",
   "metadata": {},
   "outputs": [
    {
     "data": {
      "text/plain": [
       "Text(0.5, 1.0, 'Доход по типу продукта')"
      ]
     },
     "execution_count": 205,
     "metadata": {},
     "output_type": "execute_result"
    },
    {
     "data": {
      "image/png": "[encoded data removed]",
      "text/plain": [
       "<Figure size 640x480 with 1 Axes>"
      ]
     },
     "metadata": {},
     "output_type": "display_data"
    }
   ],
   "source": [
    "Sales.groupby(['Product Type'])['Total Price'].sum().plot(kind='bar')\n",
    "plt.xlabel('Product Type')\n",
    "plt.ylabel('Total Price')\n",
    "plt.title('Доход по типу продукта')"
   ]
  },
  {
   "cell_type": "code",
   "execution_count": null,
   "id": "764496ec",
   "metadata": {},
   "outputs": [
    {
     "data": {
      "text/plain": [
       "Text(0, 0.5, '')"
      ]
     },
     "execution_count": 207,
     "metadata": {},
     "output_type": "execute_result"
    },
    {
     "data": {
      "image/png": "[encoded data removed]",
      "text/plain": [
       "<Figure size 1200x400 with 2 Axes>"
      ]
     },
     "metadata": {},
     "output_type": "display_data"
    }
   ],
   "source": [
    "\n",
    "Date = pd.to_datetime(Sales['Purchase Date'])\n",
    "Sales['Month'] = Date.dt.to_period('M').astype(str)\n",
    "Sales['Quarter'] = Date.dt.to_period('Q').astype(str)\n",
    "fig, axes = plt.subplots(1, 2, figsize=(12, 4))\n",
    "\n",
    "\n",
    "addon_querter = Sales.groupby('Quarter')['Add-on Total'].sum().reset_index()\n",
    "addon_month = Sales.groupby('Month')['Add-on Total'].sum().reset_index()\n",
    "\n",
    "\n",
    "\n",
    "def print_two_columns():\n",
    "    pass\n",
    "\n",
    "\n",
    "\n",
    "sns.barplot(data=addon_month, x='Month', y='Add-on Total',  ax = axes[0])\n",
    "axes[0].set_title('Доход от доп. услуг по месяцам')\n",
    "axes[0].tick_params(axis='x', rotation=45)\n",
    "\n",
    "\n",
    "\n",
    "\n",
    "sns.barplot(data=addon_querter, x='Quarter', y='Add-on Total',  ax = axes[1])\n",
    "axes[1].set_title('Доход от доп. услуг по кварталам')\n",
    "axes[1].tick_params(axis='x')\n",
    "axes[1].set_ylabel('')\n"
   ]
  },
  {
   "cell_type": "code",
   "execution_count": null,
   "id": "395f8bed",
   "metadata": {},
   "outputs": [],
   "source": []
  }
 ],
 "metadata": {
  "kernelspec": {
   "display_name": ".venv",
   "language": "python",
   "name": "python3"
  },
  "language_info": {
   "codemirror_mode": {
    "name": "ipython",
    "version": 3
   },
   "file_extension": ".py",
   "mimetype": "text/x-python",
   "name": "python",
   "nbconvert_exporter": "python",
   "pygments_lexer": "ipython3",
   "version": "3.13.9"
  }
 },
 "nbformat": 4,
 "nbformat_minor": 5
}
