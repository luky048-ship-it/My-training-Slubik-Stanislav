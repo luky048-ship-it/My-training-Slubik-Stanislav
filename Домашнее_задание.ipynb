{
  "nbformat": 4,
  "nbformat_minor": 0,
  "metadata": {
    "colab": {
      "provenance": [],
      "mount_file_id": "1ellAyBPF8WydMfXhcHxWkiBAX1wRMN2C",
      "authorship_tag": "ABX9TyMdn9U5tNp9SPZ/qgSLfCR+",
      "include_colab_link": true
    },
    "kernelspec": {
      "name": "python3",
      "display_name": "Python 3"
    },
    "language_info": {
      "name": "python"
    }
  },
  "cells": [
    {
      "cell_type": "markdown",
      "metadata": {
        "id": "view-in-github",
        "colab_type": "text"
      },
      "source": [
        "<a href=\"https://colab.research.google.com/github/luky048-ship-it/My-training/blob/main/%D0%94%D0%BE%D0%BC%D0%B0%D1%88%D0%BD%D0%B5%D0%B5_%D0%B7%D0%B0%D0%B4%D0%B0%D0%BD%D0%B8%D0%B5.ipynb\" target=\"_parent\"><img src=\"https://colab.research.google.com/assets/colab-badge.svg\" alt=\"Open In Colab\"/></a>"
      ]
    },
    {
      "cell_type": "code",
      "execution_count": 6,
      "metadata": {
        "id": "bzvISfu0VtzN",
        "colab": {
          "base_uri": "https://localhost:8080/"
        },
        "collapsed": true,
        "outputId": "ca671104-4104-4636-f957-9219be641c9b"
      },
      "outputs": [
        {
          "output_type": "stream",
          "name": "stdout",
          "text": [
            "Drive already mounted at /content/drive; to attempt to forcibly remount, call drive.mount(\"/content/drive\", force_remount=True).\n"
          ]
        }
      ],
      "source": [
        "from google.colab import drive\n",
        "drive.mount('/content/drive')\n",
        "\n",
        "\n",
        "from collections import defaultdict\n",
        "import json\n",
        "import csv"
      ]
    },
    {
      "cell_type": "code",
      "source": [
        "# Домашнее задание №1.1\n",
        "purchases = {}\n",
        "with open('/content/drive/MyDrive/Colab Notebooks/purchase_log.txt', 'r', encoding='utf-8') as f:\n",
        "    for i, line in enumerate(f):\n",
        "      purchase_log = json.loads(line)\n",
        "      user_id = purchase_log['user_id']\n",
        "      category = purchase_log['category']\n",
        "      purchases[user_id] = category\n",
        "      print(user_id, category)\n",
        "      if i >= 10:\n",
        "          break\n",
        "\n"
      ],
      "metadata": {
        "colab": {
          "base_uri": "https://localhost:8080/"
        },
        "collapsed": true,
        "id": "jpRLHLVzrR3S",
        "outputId": "7e5ccc32-cd24-495d-c27c-60862d91c66b"
      },
      "execution_count": 18,
      "outputs": [
        {
          "output_type": "stream",
          "name": "stdout",
          "text": [
            "user_id category\n",
            "1840e0b9d4 Продукты\n",
            "4e4f90fcfb Электроника\n",
            "afea8d72fc Электроника\n",
            "373a6055fe Бытовая техника\n",
            "9b2ab046f3 Электроника\n",
            "9f39d307c3 Электроника\n",
            "44edeffc91 Продукты\n",
            "704474fa2d Продукты\n",
            "1de31be403 Бытовая техника\n",
            "b71f36a5e4 Продукты\n"
          ]
        }
      ]
    },
    {
      "cell_type": "code",
      "source": [
        "# Домашнее задание №1.2\n",
        "\n",
        "purchases = {}\n",
        "with open('/content/drive/MyDrive/Colab Notebooks/purchase_log.txt', 'r', encoding='utf-8') as f:\n",
        "    for i, line in enumerate(f):\n",
        "      purchase_log = json.loads(line)\n",
        "      user_id = purchase_log['user_id']\n",
        "      category = purchase_log['category']\n",
        "      purchases[user_id] = category\n",
        "\n",
        "with open('/content/drive/MyDrive/Colab Notebooks/visit_log.csv', 'r', encoding='utf-8') as a:\n",
        "  reader = csv.reader(a)\n",
        "  rows = []\n",
        "  for i, row in enumerate(reader):\n",
        "    rows.append(row)\n",
        "    print(row)\n",
        "    if i >= 5:\n",
        "      break"
      ],
      "metadata": {
        "colab": {
          "base_uri": "https://localhost:8080/"
        },
        "collapsed": true,
        "id": "Y2Em1O0jDrjo",
        "outputId": "8d964598-b650-4806-dbb5-f8bda8f3fcfe"
      },
      "execution_count": 20,
      "outputs": [
        {
          "output_type": "stream",
          "name": "stdout",
          "text": [
            "['user_id', 'source']\n",
            "['6450655ae8', 'other']\n",
            "['b4ea53e670', 'other']\n",
            "['0', 'other']\n",
            "['96064ae9e0', 'other']\n",
            "['e1bd168161', 'context']\n"
          ]
        }
      ]
    },
    {
      "cell_type": "code",
      "source": [
        "\n",
        "with open('/content/drive/MyDrive/Colab Notebooks/visit_log.csv', 'r', encoding='utf-8') as a:\n",
        "  with open('/content/drive/MyDrive/Colab Notebooks/funnel.csv', 'w', encoding='utf-8') as v:\n",
        "\n",
        "    reader = csv.reader(a)\n",
        "    writer = csv.writer(v)\n",
        "\n",
        "    header = next(reader)\n",
        "    header.append('category')\n",
        "    writer.writerow(header)\n",
        "\n",
        "    for row in reader:\n",
        "      user_id = row[0]\n",
        "      category = purchases.get(user_id)\n",
        "      if category:\n",
        "        row.append(category)\n",
        "        writer.writerow(row)\n",
        "\n",
        "with open('/content/drive/MyDrive/Colab Notebooks/funnel.csv', 'r', encoding='utf-8') as v:\n",
        "  reader = csv.reader(v)\n",
        "  for i, row in enumerate(reader):\n",
        "    print(row)\n",
        "    if i >= 10:\n",
        "      break"
      ],
      "metadata": {
        "id": "QX_dS77GWqHH",
        "colab": {
          "base_uri": "https://localhost:8080/"
        },
        "outputId": "0973cd2e-47a5-44be-d1f5-90f326ec2e1a"
      },
      "execution_count": 19,
      "outputs": [
        {
          "output_type": "stream",
          "name": "stdout",
          "text": [
            "['user_id', 'source', 'category']\n",
            "['1840e0b9d4', 'other', 'Продукты']\n",
            "['4e4f90fcfb', 'context', 'Электроника']\n",
            "['afea8d72fc', 'other', 'Электроника']\n",
            "['373a6055fe', 'other', 'Бытовая техника']\n",
            "['9b2ab046f3', 'other', 'Электроника']\n",
            "['9f39d307c3', 'context', 'Электроника']\n",
            "['44edeffc91', 'context', 'Продукты']\n",
            "['704474fa2d', 'other', 'Продукты']\n",
            "['1de31be403', 'other', 'Бытовая техника']\n",
            "['b71f36a5e4', 'other', 'Продукты']\n"
          ]
        }
      ]
    },
    {
      "cell_type": "code",
      "source": [],
      "metadata": {
        "id": "3lp0A_igDbpI"
      },
      "execution_count": null,
      "outputs": []
    }
  ]
}