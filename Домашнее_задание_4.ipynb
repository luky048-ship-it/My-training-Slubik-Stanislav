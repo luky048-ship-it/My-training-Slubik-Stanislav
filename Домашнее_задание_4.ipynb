{
 "cells": [
  {
   "cell_type": "code",
   "execution_count": 2,
   "id": "0ddb3fe7",
   "metadata": {},
   "outputs": [
    {
     "data": {
      "text/plain": [
       "\"Напишите функцию, которая принимает на вход строку и проверяет,\\nявляется ли она валидным транспортным номером (1 буква, 3 цифры,\\n2 буквы, 2–3 цифры). Обратите внимание, что не все буквы\\nкириллического алфавита используются в транспортных номерах.\\nЕсли номер валиден, то функция должна возвращать отдельно номери регион.\\nПримеры работы программы:\\ncar_id = 'А222BС96'\\nРезультат: Номер А222BС валиден. Регион: 96\\ncar_id = 'АБ22ВВ193'\\nРезультат: Номер не валиден.    \""
      ]
     },
     "execution_count": 2,
     "metadata": {},
     "output_type": "execute_result"
    }
   ],
   "source": [
    "'''Напишите функцию, которая принимает на вход строку и проверяет,\n",
    "является ли она валидным транспортным номером (1 буква, 3 цифры,\n",
    "2 буквы, 2–3 цифры). Обратите внимание, что не все буквы\n",
    "кириллического алфавита используются в транспортных номерах.\n",
    "Если номер валиден, то функция должна возвращать отдельно номери регион.\n",
    "Примеры работы программы:\n",
    "car_id = 'А222BС96'\n",
    "Результат: Номер А222BС валиден. Регион: 96\n",
    "car_id = 'АБ22ВВ193'\n",
    "Результат: Номер не валиден.    '''"
   ]
  },
  {
   "cell_type": "code",
   "execution_count": 21,
   "id": "a70c938f",
   "metadata": {},
   "outputs": [],
   "source": [
    "import regex as re"
   ]
  },
  {
   "cell_type": "code",
   "execution_count": 60,
   "id": "507fe0b8",
   "metadata": {},
   "outputs": [
    {
     "name": "stdout",
     "output_type": "stream",
     "text": [
      "Номер А222ВС валиден. Регион: 96\n"
     ]
    }
   ],
   "source": [
    "\n",
    "car_id = 'А222ВС96'\n",
    "\n",
    "def car_number(car_id):\n",
    "    pattern_l = r'^([АВЕКМНОРСТУХ]\\d{3}[АВЕКМНОРСТУХ]{2})(\\d{2,3})$'\n",
    "\n",
    "    match = re.fullmatch(pattern_l, car_id)  \n",
    "                                               \n",
    "    if match:\n",
    "        number_car = match.group(1)\n",
    "        region = match.group(2)\n",
    "        return (f'Номер {number_car} валиден. Регион: {region}')\n",
    "\n",
    "    else:\n",
    "        return ('Номер не валиден.')\n",
    "    \n",
    "result = car_number(car_id)\n",
    "print(result)\n"
   ]
  },
  {
   "cell_type": "code",
   "execution_count": null,
   "id": "a1a0fb98",
   "metadata": {},
   "outputs": [],
   "source": [
    "'''Задание 2 (не обязательное)\n",
    "Напишите функцию, которая будет удалять все последовательные\n",
    "повторы слов из заданной строки при помощи регулярных выражений.\n",
    "Пример работы программы:\n",
    "some_string = 'Напишите функцию функцию, которая будет будет\n",
    "будет будет удалять все все все все последовательные повторы слов\n",
    "из из из из заданной строки строки при помощи регулярных\n",
    "выражений'\n",
    "Результат: Напишите функцию, которая будет удалять все\n",
    "последовательные повторы слов из заданной строки при помощи\n",
    "регулярных выражений.'''"
   ]
  },
  {
   "cell_type": "code",
   "execution_count": 62,
   "id": "9d4b137b",
   "metadata": {},
   "outputs": [
    {
     "name": "stdout",
     "output_type": "stream",
     "text": [
      "Напишите функцию, которая будет удалять все последовательные повторы слов\n",
      "из заданной строки при помощи регулярных\n",
      "выражени\n"
     ]
    }
   ],
   "source": [
    "some_string = '''Напишите функцию функцию, которая будет будет\n",
    "будет будет удалять все все все все последовательные повторы слов\n",
    "из из из из заданной строки строки при помощи регулярных\n",
    "выражени'''\n",
    "\n",
    "def delete_repeats(some_string):\n",
    "    if some_string:\n",
    "        pattern = r'(\\b\\w+\\b)(\\s+\\1)+'\n",
    "        result = re.sub(pattern, r'\\1', some_string)\n",
    "        return result\n",
    "    else:\n",
    "        return 'Строка пуста'\n",
    "\n",
    "result = delete_repeats(some_string)\n",
    "print(result)"
   ]
  },
  {
   "cell_type": "code",
   "execution_count": null,
   "id": "28656704",
   "metadata": {},
   "outputs": [],
   "source": []
  }
 ],
 "metadata": {
  "kernelspec": {
   "display_name": ".venv",
   "language": "python",
   "name": "python3"
  },
  "language_info": {
   "codemirror_mode": {
    "name": "ipython",
    "version": 3
   },
   "file_extension": ".py",
   "mimetype": "text/x-python",
   "name": "python",
   "nbconvert_exporter": "python",
   "pygments_lexer": "ipython3",
   "version": "3.13.9"
  }
 },
 "nbformat": 4,
 "nbformat_minor": 5
}
