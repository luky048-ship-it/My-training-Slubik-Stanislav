{
 "cells": [
  {
   "cell_type": "code",
   "execution_count": 1,
   "id": "1565919b",
   "metadata": {},
   "outputs": [],
   "source": [
    "from datetime import datetime as dt\n",
    "from datetime import timedelta as td"
   ]
  },
  {
   "cell_type": "code",
   "execution_count": 2,
   "id": "88803de8",
   "metadata": {},
   "outputs": [
    {
     "name": "stdout",
     "output_type": "stream",
     "text": [
      "The Moscow Times -  2002-10-02\n",
      "The Guardian -  2013-10-11\n",
      "Daily News -  1977-08-18\n"
     ]
    }
   ],
   "source": [
    "'''# Домашнее задание 2.1 Печатные газеты использовали свой формат дат для каждого выпуска. Для\n",
    "каждой газеты из списка напишите формат указанной даты для перевода в\n",
    "объект datetime:'''\n",
    "D_n_Mt, D_n_TG, D_n_DN = 'The Moscow Times - Wednesday, October 2, 2002', 'The Guardian - Friday, 11.10.13', 'Daily News - Thursday, 18 August 1977'\n",
    "\n",
    "D_n_Mt = D_n_Mt.split('-')[1].strip()\n",
    "DateTheMoscowTims = dt.strptime(D_n_Mt, '%A, %B %d, %Y')\n",
    "print('The Moscow Times - ', DateTheMoscowTims.date())\n",
    "\n",
    "D_n_TG = D_n_TG.split('-')[1].strip()\n",
    "D_n_TG = dt.strptime(D_n_TG, '%A, %d.%m.%y')\n",
    "print('The Guardian - ', D_n_TG.date())\n",
    "\n",
    "D_n_DN = D_n_DN.split('-')[1].strip()\n",
    "D_n_DN = dt.strptime(D_n_DN, '%A, %d %B %Y')\n",
    "print('Daily News - ', D_n_DN.date())\n"
   ]
  },
  {
   "cell_type": "code",
   "execution_count": 3,
   "id": "7430514c",
   "metadata": {},
   "outputs": [
    {
     "name": "stdout",
     "output_type": "stream",
     "text": [
      "['2018-01-01', '2018-01-02', '2018-01-03', '2018-01-04', '2018-01-05', '2018-01-06', '2018-01-07']\n"
     ]
    }
   ],
   "source": [
    "'''# Домашнее задание 2.2 Напишите функцию date_range, которая возвращает список дат за период\n",
    "от start_date до end_date. Даты должны вводиться в формате YYYY-MM-DD. В\n",
    "случае неверного формата или при start_date > end_date должен\n",
    "возвращаться пустой список. '''\n",
    "\n",
    "start_date = '2018-01-01'\n",
    "end_day = '2018-01-07'\n",
    "\n",
    "def date_range(start_date, end_date):\n",
    "    try:\n",
    "        dt_start = dt.strptime(start_date, '%Y-%m-%d')\n",
    "        dt_end = dt.strptime(end_day, '%Y-%m-%d')\n",
    "    except ValueError:\n",
    "        return []\n",
    "    \n",
    "    Date_list = []\n",
    "    if dt_start > dt_end:\n",
    "        return []\n",
    "    \n",
    "    else:\n",
    "        while dt_start <= dt_end:\n",
    "            Date_list.append(dt_start.strftime('%Y-%m-%d'))\n",
    "            dt_start += td(days=1)\n",
    "    return Date_list\n",
    "\n",
    "print(date_range(start_date, end_day))"
   ]
  },
  {
   "cell_type": "code",
   "execution_count": null,
   "id": "c018d875",
   "metadata": {},
   "outputs": [],
   "source": []
  }
 ],
 "metadata": {
  "kernelspec": {
   "display_name": ".venv",
   "language": "python",
   "name": "python3"
  },
  "language_info": {
   "codemirror_mode": {
    "name": "ipython",
    "version": 3
   },
   "file_extension": ".py",
   "mimetype": "text/x-python",
   "name": "python",
   "nbconvert_exporter": "python",
   "pygments_lexer": "ipython3",
   "version": "3.12.3"
  }
 },
 "nbformat": 4,
 "nbformat_minor": 5
}
